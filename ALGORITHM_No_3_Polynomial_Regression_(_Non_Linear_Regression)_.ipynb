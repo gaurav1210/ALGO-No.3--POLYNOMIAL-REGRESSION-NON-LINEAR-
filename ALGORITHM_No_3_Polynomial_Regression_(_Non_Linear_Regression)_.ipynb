{
  "nbformat": 4,
  "nbformat_minor": 0,
  "metadata": {
    "colab": {
      "name": "ALGORITHM No. 3 . Polynomial Regression ( Non-Linear Regression)   .ipynb",
      "provenance": [],
      "private_outputs": true,
      "mount_file_id": "1kLwoHPo71NRb6L97hJ7etOwA_UkxSXGi",
      "authorship_tag": "ABX9TyNfGlm4KbA8NO8Of+o2ZJ6j",
      "include_colab_link": true
    },
    "kernelspec": {
      "name": "python3",
      "display_name": "Python 3"
    }
  },
  "cells": [
    {
      "cell_type": "markdown",
      "metadata": {
        "id": "view-in-github",
        "colab_type": "text"
      },
      "source": [
        "<a href=\"https://colab.research.google.com/github/gaurav1210/ALGO-No.3--POLYNOMIAL-REGRESSION-NON-LINEAR-/blob/master/ALGORITHM_No_3_Polynomial_Regression_(_Non_Linear_Regression)_.ipynb\" target=\"_parent\"><img src=\"https://colab.research.google.com/assets/colab-badge.svg\" alt=\"Open In Colab\"/></a>"
      ]
    },
    {
      "cell_type": "markdown",
      "metadata": {
        "id": "LTANVzaykc2B",
        "colab_type": "text"
      },
      "source": [
        "## Step 1. Import all necessary **Libraries**"
      ]
    },
    {
      "cell_type": "code",
      "metadata": {
        "id": "_3VliTf6SCGi",
        "colab_type": "code",
        "colab": {}
      },
      "source": [
        "import pandas as pd                                   # Library for dataframe and manipulation\n",
        "import numpy as np                                    # Library for array manipulation\n",
        "import matplotlib.pyplot as plt                       # Library for data visualizations\n",
        "from sklearn.linear_model import LinearRegression     # Library for machine learning model and scientific calculations\n",
        "from sklearn.preprocessing import PolynomialFeatures  # Library for polynomial selection\n",
        "from sklearn.model_selection import train_test_split  # class for dividing the dataset into train and test\n",
        "from sklearn import metrics                        # importing matrix library from scikit learn package"
      ],
      "execution_count": 0,
      "outputs": []
    },
    {
      "cell_type": "markdown",
      "metadata": {
        "id": "9mWpwCN-nX9Q",
        "colab_type": "text"
      },
      "source": [
        "## Step 2. **Reading or importing** the datasets into the working environment"
      ]
    },
    {
      "cell_type": "code",
      "metadata": {
        "id": "yKp6OV-u0o-9",
        "colab_type": "code",
        "colab": {}
      },
      "source": [
        "gp = pd.read_csv(\"/content/drive/My Drive/YOUTUBE CONTENT/DATASET/Datasets GUNPOWDER GERMANY( algo 3) - Sheet1.csv\")\n",
        "gp"
      ],
      "execution_count": 0,
      "outputs": []
    },
    {
      "cell_type": "code",
      "metadata": {
        "id": "lXcKdz9NuAuk",
        "colab_type": "code",
        "colab": {}
      },
      "source": [
        "gp.shape"
      ],
      "execution_count": 0,
      "outputs": []
    },
    {
      "cell_type": "markdown",
      "metadata": {
        "id": "LRyYYfZmRfVH",
        "colab_type": "text"
      },
      "source": [
        "## Step 3. Divide the datasets into the **x** and **y**( dependent and independent) variable"
      ]
    },
    {
      "cell_type": "code",
      "metadata": {
        "id": "rbv29zsRRx0V",
        "colab_type": "code",
        "colab": {}
      },
      "source": [
        "x= gp.iloc[:,0:1].values\n",
        "y=gp.iloc[:, 1:].values\n",
        "np.array(x)\n"
      ],
      "execution_count": 0,
      "outputs": []
    },
    {
      "cell_type": "code",
      "metadata": {
        "id": "yk_a1sFDSsiT",
        "colab_type": "code",
        "colab": {}
      },
      "source": [
        "np.array(y)"
      ],
      "execution_count": 0,
      "outputs": []
    },
    {
      "cell_type": "markdown",
      "metadata": {
        "id": "t8_ztnHQttLZ",
        "colab_type": "text"
      },
      "source": [
        "## Step 4. **Visualize** the data set on the Scatterplot graph"
      ]
    },
    {
      "cell_type": "code",
      "metadata": {
        "id": "WTR1bnpYt_BE",
        "colab_type": "code",
        "colab": {}
      },
      "source": [
        "%matplotlib inline\n",
        "plt.xlabel(\"Charge and elasticity powder of gunpowder\",size=15)\n",
        "plt.ylabel(\"Charge\",size = 15)\n",
        "plt.title(\"dataset on the scatterplot\",size= 20)\n",
        "plt.scatter(x, y, color=\"darkblue\",marker=\"o\")\n",
        "plt.show()\n"
      ],
      "execution_count": 0,
      "outputs": []
    },
    {
      "cell_type": "markdown",
      "metadata": {
        "id": "kUgeFLYrcEmg",
        "colab_type": "text"
      },
      "source": [
        "## Step 5. Divide the datasets into **training and testing** part"
      ]
    },
    {
      "cell_type": "code",
      "metadata": {
        "id": "BfGBlP59SuYu",
        "colab_type": "code",
        "colab": {}
      },
      "source": [
        "x_train,x_test,y_train,y_test= train_test_split(x,y,test_size=0.2,random_state=0)\n",
        "x_train"
      ],
      "execution_count": 0,
      "outputs": []
    },
    {
      "cell_type": "code",
      "metadata": {
        "id": "DG_FB7uO0bKG",
        "colab_type": "code",
        "colab": {}
      },
      "source": [
        "y_train"
      ],
      "execution_count": 0,
      "outputs": []
    },
    {
      "cell_type": "code",
      "metadata": {
        "id": "K85x2UPL0hsX",
        "colab_type": "code",
        "colab": {}
      },
      "source": [
        "x_test"
      ],
      "execution_count": 0,
      "outputs": []
    },
    {
      "cell_type": "code",
      "metadata": {
        "id": "-Ckmtd5z0l-X",
        "colab_type": "code",
        "colab": {}
      },
      "source": [
        "y_test"
      ],
      "execution_count": 0,
      "outputs": []
    },
    {
      "cell_type": "markdown",
      "metadata": {
        "id": "Dcfx1IdAG7Cq",
        "colab_type": "text"
      },
      "source": [
        "## Step 6. Feeding training dataset for **polynomial model training**"
      ]
    },
    {
      "cell_type": "code",
      "metadata": {
        "id": "IOMenrH5H6C3",
        "colab_type": "code",
        "colab": {}
      },
      "source": [
        "polymodel = PolynomialFeatures(degree=4)\n",
        "model_1 = polymodel.fit_transform(x) \n",
        "model_1"
      ],
      "execution_count": 0,
      "outputs": []
    },
    {
      "cell_type": "code",
      "metadata": {
        "id": "VnGv5gMsoRzz",
        "colab_type": "code",
        "colab": {}
      },
      "source": [
        "PR= LinearRegression()\n",
        "poly=PR.fit(model_1,y) \n",
        "poly"
      ],
      "execution_count": 0,
      "outputs": []
    },
    {
      "cell_type": "markdown",
      "metadata": {
        "id": "1WLempHPTp2u",
        "colab_type": "text"
      },
      "source": [
        "## Step 8. Drawing the scatterplot grapgh of **trained dataset polynomial model**"
      ]
    },
    {
      "cell_type": "code",
      "metadata": {
        "id": "5jHL9PsfJ0ba",
        "colab_type": "code",
        "colab": {}
      },
      "source": [
        "plt.scatter(x,y, color=\"blue\")\n",
        "plt.plot(x, poly.predict(model_1), color =\"green\")\n",
        "plt.title(\"Polynomial Regression plot\")\n",
        "plt.xlabel(\"charge and elasticity powder of gunpowder\")\n",
        "plt.ylabel(\"charge\")\n",
        "plt.show()"
      ],
      "execution_count": 0,
      "outputs": []
    },
    {
      "cell_type": "markdown",
      "metadata": {
        "id": "R1rOgdYtUEUP",
        "colab_type": "text"
      },
      "source": [
        "## Step 9. Evaluting the **intercept and coefficient value**"
      ]
    },
    {
      "cell_type": "code",
      "metadata": {
        "id": "NXl1AsDcshhS",
        "colab_type": "code",
        "colab": {}
      },
      "source": [
        "print(poly.intercept_)\n",
        "print(poly.coef_)"
      ],
      "execution_count": 0,
      "outputs": []
    },
    {
      "cell_type": "markdown",
      "metadata": {
        "id": "WrxhcpSIUacG",
        "colab_type": "text"
      },
      "source": [
        "## Step 10. **Evaluting** the polynomial regression model with **RMSE**"
      ]
    },
    {
      "cell_type": "code",
      "metadata": {
        "id": "pQaDx52rtJG7",
        "colab_type": "code",
        "colab": {}
      },
      "source": [
        "print(metrics.mean_squared_error(x_train,y_train))\n",
        "print(np.sqrt(metrics.mean_squared_error(x_train,y_train)))"
      ],
      "execution_count": 0,
      "outputs": []
    },
    {
      "cell_type": "markdown",
      "metadata": {
        "id": "IdwEeEnhU6fo",
        "colab_type": "text"
      },
      "source": [
        "## Step 11. **Testing** the polynomial algorithm"
      ]
    },
    {
      "cell_type": "code",
      "metadata": {
        "id": "YshvkDZbVQWr",
        "colab_type": "code",
        "colab": {}
      },
      "source": [
        "test= poly.predict(polymodel.fit_transform(x_test))\n",
        "test"
      ],
      "execution_count": 0,
      "outputs": []
    }
  ]
}